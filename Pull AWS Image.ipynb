{
 "cells": [
  {
   "cell_type": "code",
   "execution_count": 2,
   "id": "90095479",
   "metadata": {},
   "outputs": [
    {
     "name": "stdout",
     "output_type": "stream",
     "text": [
      "Docker version 20.10.17, build 100c701\n"
     ]
    }
   ],
   "source": [
    "!docker --version"
   ]
  },
  {
   "cell_type": "code",
   "execution_count": 3,
   "id": "d5ebd5b8",
   "metadata": {},
   "outputs": [
    {
     "name": "stdout",
     "output_type": "stream",
     "text": [
      "Error response from daemon: Head \"https://683313688378.dkr.ecr.us-east-1.amazonaws.com/v2/sagemaker-xgboost/manifests/1.2-1\": no basic auth credentials\n"
     ]
    }
   ],
   "source": [
    "!docker pull 683313688378.dkr.ecr.us-east-1.amazonaws.com/sagemaker-xgboost:1.2-1"
   ]
  },
  {
   "cell_type": "code",
   "execution_count": 4,
   "id": "a129d67c",
   "metadata": {},
   "outputs": [
    {
     "name": "stdout",
     "output_type": "stream",
     "text": [
      "docker login -u AWS -p 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 -e none https://131046133021.dkr.ecr.us-east-1.amazonaws.com\n"
     ]
    }
   ],
   "source": [
    "!aws ecr get-login"
   ]
  },
  {
   "cell_type": "code",
   "execution_count": 5,
   "id": "c932c889",
   "metadata": {},
   "outputs": [
    {
     "name": "stdout",
     "output_type": "stream",
     "text": [
      "WARNING! Your password will be stored unencrypted in /home/ec2-user/.docker/config.json.\n",
      "Configure a credential helper to remove this warning. See\n",
      "https://docs.docker.com/engine/reference/commandline/login/#credentials-store\n",
      "\n",
      "Login Succeeded\n"
     ]
    }
   ],
   "source": [
    "!aws ecr get-login-password --region us-east-1 | docker login --username AWS --password-stdin 131046133021.dkr.ecr.us-east-1.amazonaws.com"
   ]
  },
  {
   "cell_type": "code",
   "execution_count": 6,
   "id": "55cfc8f4",
   "metadata": {},
   "outputs": [
    {
     "name": "stdout",
     "output_type": "stream",
     "text": [
      "latest: Pulling from iris-model\n",
      "\n",
      "\u001b[1Bf75df4d9: Pulling fs layer \n",
      "\u001b[1B90a1c4bb: Pulling fs layer \n",
      "\u001b[1B2c105080: Pulling fs layer \n",
      "\u001b[1Bcb7dd592: Pulling fs layer \n",
      "\u001b[1Bcc7ce341: Pulling fs layer \n",
      "\u001b[1B85481b58: Pulling fs layer \n",
      "\u001b[1B9481e4ec: Pulling fs layer \n",
      "\u001b[1B5f29c884: Pulling fs layer \n",
      "\u001b[1B6bb4ebe6: Pulling fs layer \n",
      "\u001b[1Ba5e4c124: Pulling fs layer \n",
      "\u001b[1Be6a10ef6: Pulling fs layer \n",
      "\u001b[1Be6d174a6: Pulling fs layer \n",
      "\u001b[1B7e533ef2: Pulling fs layer \n",
      "\u001b[1Bc606eba5: Pulling fs layer \n",
      "\u001b[1Be61ef4a8: Pulling fs layer \n",
      "\u001b[1BDigest: sha256:3a473045d443084097db516adeadeb0f23dc2e4f3a2bb38ba7c596f451ff3bac\u001b[2K\u001b[16A\u001b[2K\u001b[16A\u001b[2K\u001b[16A\u001b[2K\u001b[13A\u001b[2K\u001b[16A\u001b[2K\u001b[12A\u001b[2K\u001b[13A\u001b[2K\u001b[16A\u001b[2K\u001b[13A\u001b[2K\u001b[13A\u001b[2K\u001b[16A\u001b[2K\u001b[13A\u001b[2K\u001b[13A\u001b[2K\u001b[12A\u001b[2K\u001b[13A\u001b[2K\u001b[12A\u001b[2K\u001b[16A\u001b[2K\u001b[11A\u001b[2K\u001b[13A\u001b[2K\u001b[11A\u001b[2K\u001b[16A\u001b[2K\u001b[11A\u001b[2K\u001b[10A\u001b[2K\u001b[9A\u001b[2K\u001b[10A\u001b[2K\u001b[16A\u001b[2K\u001b[8A\u001b[2K\u001b[10A\u001b[2K\u001b[10A\u001b[2K\u001b[16A\u001b[2K\u001b[12A\u001b[2K\u001b[7A\u001b[2K\u001b[12A\u001b[2K\u001b[16A\u001b[2K\u001b[7A\u001b[2K\u001b[5A\u001b[2K\u001b[7A\u001b[2K\u001b[16A\u001b[2K\u001b[16A\u001b[2K\u001b[7A\u001b[2K\u001b[5A\u001b[2K\u001b[12A\u001b[2K\u001b[5A\u001b[2K\u001b[7A\u001b[2K\u001b[5A\u001b[2K\u001b[16A\u001b[2K\u001b[7A\u001b[2K\u001b[5A\u001b[2K\u001b[12A\u001b[2K\u001b[5A\u001b[2K\u001b[12A\u001b[2K\u001b[16A\u001b[2K\u001b[12A\u001b[2K\u001b[16A\u001b[2K\u001b[12A\u001b[2K\u001b[15A\u001b[2K\u001b[5A\u001b[2K\u001b[15A\u001b[2K\u001b[12A\u001b[2K\u001b[15A\u001b[2K\u001b[5A\u001b[2K\u001b[14A\u001b[2K\u001b[12A\u001b[2K\u001b[14A\u001b[2K\u001b[13A\u001b[2K\u001b[12A\u001b[2K\u001b[13A\u001b[2K\u001b[12A\u001b[2K\u001b[13A\u001b[2K\u001b[7A\u001b[2K\u001b[13A\u001b[2K\u001b[7A\u001b[2K\u001b[12A\u001b[2K\u001b[7A\u001b[2K\u001b[13A\u001b[2K\u001b[5A\u001b[2K\u001b[7A\u001b[2K\u001b[13A\u001b[2K\u001b[5A\u001b[2K\u001b[13A\u001b[2K\u001b[13A\u001b[2K\u001b[7A\u001b[2K\u001b[13A\u001b[2K\u001b[5A\u001b[2K\u001b[13A\u001b[2K\u001b[13A\u001b[2K\u001b[12A\u001b[2K\u001b[7A\u001b[2K\u001b[7A\u001b[2K\u001b[4A\u001b[2K\u001b[12A\u001b[2K\u001b[7A\u001b[2K\u001b[12A\u001b[2K\u001b[7A\u001b[2K\u001b[4A\u001b[2K\u001b[12A\u001b[2K\u001b[4A\u001b[2K\u001b[3A\u001b[2K\u001b[12A\u001b[2K\u001b[2A\u001b[2K\u001b[12A\u001b[2K\u001b[1A\u001b[2K\u001b[12A\u001b[2K\u001b[4A\u001b[2K\u001b[12A\u001b[2K\u001b[7A\u001b[2K\u001b[7A\u001b[2K\u001b[12A\u001b[2K\u001b[7A\u001b[2K\u001b[12A\u001b[2K\u001b[7A\u001b[2K\u001b[12A\u001b[2K\u001b[7A\u001b[2K\u001b[12A\u001b[2K\u001b[7A\u001b[2K\u001b[12A\u001b[2K\u001b[7A\u001b[2K\u001b[12A\u001b[2K\u001b[7A\u001b[2K\u001b[12A\u001b[2K\u001b[12A\u001b[2K\u001b[7A\u001b[2K\u001b[12A\u001b[2K\u001b[7A\u001b[2K\u001b[12A\u001b[2K\u001b[7A\u001b[2K\u001b[12A\u001b[2K\u001b[7A\u001b[2K\u001b[12A\u001b[2K\u001b[7A\u001b[2K\u001b[12A\u001b[2K\u001b[7A\u001b[2K\u001b[12A\u001b[2K\u001b[7A\u001b[2K\u001b[12A\u001b[2K\u001b[12A\u001b[2K\u001b[7A\u001b[2K\u001b[12A\u001b[2K\u001b[12A\u001b[2K\u001b[12A\u001b[2K\u001b[7A\u001b[2K\u001b[12A\u001b[2K\u001b[7A\u001b[2K\u001b[12A\u001b[2K\u001b[7A\u001b[2K\u001b[7A\u001b[2K\u001b[12A\u001b[2K\u001b[12A\u001b[2K\u001b[12A\u001b[2K\u001b[12A\u001b[2K\u001b[12A\u001b[2K\u001b[7A\u001b[2K\u001b[12A\u001b[2K\u001b[7A\u001b[2K\u001b[12A\u001b[2K\u001b[12A\u001b[2K\u001b[7A\u001b[2K\u001b[12A\u001b[2K\u001b[7A\u001b[2K\u001b[12A\u001b[2K\u001b[7A\u001b[2K\u001b[7A\u001b[2K\u001b[12A\u001b[2K\u001b[7A\u001b[2K\u001b[12A\u001b[2K\u001b[7A\u001b[2K\u001b[12A\u001b[2K\u001b[11A\u001b[2K\u001b[7A\u001b[2K\u001b[11A\u001b[2K\u001b[7A\u001b[2K\u001b[11A\u001b[2K\u001b[7A\u001b[2K\u001b[7A\u001b[2K\u001b[10A\u001b[2K\u001b[10A\u001b[2K\u001b[7A\u001b[2K\u001b[10A\u001b[2K\u001b[10A\u001b[2K\u001b[9A\u001b[2K\u001b[8A\u001b[2K\u001b[8A\u001b[2K\u001b[7A\u001b[2K\u001b[8A\u001b[2K\u001b[7A\u001b[2K\u001b[7A\u001b[2K\u001b[7A\u001b[2K\u001b[7A\u001b[2K\u001b[7A\u001b[2K\u001b[7A\u001b[2K\u001b[7A\u001b[2K\u001b[7A\u001b[2K\u001b[7A\u001b[2K\u001b[7A\u001b[2K\u001b[7A\u001b[2K\u001b[7A\u001b[2K\u001b[7A\u001b[2K\u001b[7A\u001b[2K\u001b[7A\u001b[2K\u001b[7A\u001b[2K\u001b[7A\u001b[2K\u001b[7A\u001b[2K\u001b[7A\u001b[2K\u001b[7A\u001b[2K\u001b[7A\u001b[2K\u001b[7A\u001b[2K\u001b[7A\u001b[2K\u001b[7A\u001b[2K\u001b[7A\u001b[2K\u001b[7A\u001b[2K\u001b[7A\u001b[2K\u001b[7A\u001b[2K\u001b[7A\u001b[2K\u001b[7A\u001b[2K\u001b[7A\u001b[2K\u001b[7A\u001b[2K\u001b[7A\u001b[2K\u001b[7A\u001b[2K\u001b[7A\u001b[2K\u001b[7A\u001b[2K\u001b[7A\u001b[2K\u001b[7A\u001b[2K\u001b[7A\u001b[2K\u001b[7A\u001b[2K\u001b[7A\u001b[2K\u001b[7A\u001b[2KExtracting     401B/401B\u001b[6A\u001b[2K\u001b[5A\u001b[2K\u001b[5A\u001b[2K\u001b[5A\u001b[2K\u001b[5A\u001b[2K\u001b[5A\u001b[2K\u001b[5A\u001b[2K\u001b[5A\u001b[2K\u001b[5A\u001b[2K\u001b[5A\u001b[2K\u001b[5A\u001b[2K\u001b[5A\u001b[2K\u001b[5A\u001b[2K\u001b[5A\u001b[2K\u001b[5A\u001b[2K\u001b[5A\u001b[2K\u001b[5A\u001b[2K\u001b[5A\u001b[2K\u001b[5A\u001b[2K\u001b[5A\u001b[2K\u001b[5A\u001b[2K\u001b[5A\u001b[2K\u001b[5A\u001b[2K\u001b[5A\u001b[2K\u001b[5A\u001b[2K\u001b[5A\u001b[2K\u001b[5A\u001b[2K\u001b[5A\u001b[2K\u001b[5A\u001b[2K\u001b[5A\u001b[2K\u001b[5A\u001b[2K\u001b[5A\u001b[2K\u001b[5A\u001b[2K\u001b[5A\u001b[2K\u001b[4A\u001b[2K\u001b[4A\u001b[2K\u001b[4A\u001b[2K\u001b[4A\u001b[2K\u001b[4A\u001b[2K\u001b[4A\u001b[2K\u001b[4A\u001b[2K\u001b[4A\u001b[2K\u001b[4A\u001b[2K\u001b[4A\u001b[2K\u001b[4A\u001b[2K\u001b[4A\u001b[2K\u001b[4A\u001b[2K\u001b[4A\u001b[2K\u001b[4A\u001b[2K\u001b[3A\u001b[2K\u001b[2A\u001b[2K\u001b[1A\u001b[2K\u001b[1A\u001b[2K\n",
      "Status: Downloaded newer image for 131046133021.dkr.ecr.us-east-1.amazonaws.com/iris-model:latest\n",
      "131046133021.dkr.ecr.us-east-1.amazonaws.com/iris-model:latest\n"
     ]
    }
   ],
   "source": [
    "!docker pull 131046133021.dkr.ecr.us-east-1.amazonaws.com/iris-model:latest"
   ]
  },
  {
   "cell_type": "code",
   "execution_count": 8,
   "id": "2d4073a4",
   "metadata": {},
   "outputs": [
    {
     "name": "stdout",
     "output_type": "stream",
     "text": [
      "WARNING! Your password will be stored unencrypted in /home/ec2-user/.docker/config.json.\n",
      "Configure a credential helper to remove this warning. See\n",
      "https://docs.docker.com/engine/reference/commandline/login/#credentials-store\n",
      "\n",
      "Login Succeeded\n"
     ]
    }
   ],
   "source": [
    "!aws ecr get-login-password --region us-east-1 | docker login --username AWS --password-stdin 683313688378.dkr.ecr.us-east-1.amazonaws.com"
   ]
  },
  {
   "cell_type": "code",
   "execution_count": 9,
   "id": "95040fd3",
   "metadata": {},
   "outputs": [
    {
     "name": "stdout",
     "output_type": "stream",
     "text": [
      "1.2-1: Pulling from sagemaker-xgboost\n",
      "\n",
      "\u001b[1Bcc0b8772: Pulling fs layer \n",
      "\u001b[1Bfb62ba5f: Pulling fs layer \n",
      "\u001b[1B964ece6a: Pulling fs layer \n",
      "\u001b[1Bc811e2af: Pulling fs layer \n",
      "\u001b[1B3a5e55be: Pulling fs layer \n",
      "\u001b[1Bf484acd8: Pulling fs layer \n",
      "\u001b[1B79b96285: Pulling fs layer \n",
      "\u001b[1B614554bd: Pulling fs layer \n",
      "\u001b[1B50a142f4: Pulling fs layer \n",
      "\u001b[1B79b624ce: Pulling fs layer \n",
      "\u001b[1B9f189d67: Pulling fs layer \n",
      "\u001b[1B632e61f1: Pulling fs layer \n",
      "\u001b[1B64d6ff83: Pulling fs layer \n",
      "\u001b[1B674de180: Pulling fs layer \n",
      "\u001b[1Bf93ec94d: Pulling fs layer \n",
      "\u001b[1B2d2a83ca: Pulling fs layer \n",
      "\u001b[1Bfdf94042: Pulling fs layer \n",
      "\u001b[1B9883cfab: Pulling fs layer \n",
      "\u001b[1Bbec5a0bb: Pulling fs layer \n",
      "\u001b[1B06ef177c: Pulling fs layer \n",
      "\u001b[1Ba96cb270: Pulling fs layer \n",
      "\u001b[1B3d8c3cb2: Pull complete  130B/130B4kBB\u001b[19A\u001b[2K\u001b[22A\u001b[2K\u001b[19A\u001b[2K\u001b[22A\u001b[2K\u001b[17A\u001b[2K\u001b[15A\u001b[2K\u001b[14A\u001b[2K\u001b[15A\u001b[2K\u001b[14A\u001b[2K\u001b[15A\u001b[2K\u001b[14A\u001b[2K\u001b[15A\u001b[2K\u001b[14A\u001b[2K\u001b[15A\u001b[2K\u001b[14A\u001b[2K\u001b[15A\u001b[2K\u001b[14A\u001b[2K\u001b[22A\u001b[2K\u001b[14A\u001b[2K\u001b[22A\u001b[2K\u001b[14A\u001b[2K\u001b[22A\u001b[2K\u001b[14A\u001b[2K\u001b[22A\u001b[2K\u001b[14A\u001b[2K\u001b[22A\u001b[2K\u001b[14A\u001b[2K\u001b[15A\u001b[2K\u001b[14A\u001b[2K\u001b[21A\u001b[2K\u001b[14A\u001b[2K\u001b[16A\u001b[2K\u001b[20A\u001b[2K\u001b[16A\u001b[2K\u001b[14A\u001b[2K\u001b[16A\u001b[2K\u001b[14A\u001b[2K\u001b[16A\u001b[2K\u001b[14A\u001b[2K\u001b[16A\u001b[2K\u001b[14A\u001b[2K\u001b[15A\u001b[2K\u001b[14A\u001b[2K\u001b[16A\u001b[2K\u001b[18A\u001b[2K\u001b[18A\u001b[2K\u001b[14A\u001b[2K\u001b[16A\u001b[2K\u001b[17A\u001b[2K\u001b[16A\u001b[2K\u001b[14A\u001b[2K\u001b[16A\u001b[2K\u001b[14A\u001b[2K\u001b[16A\u001b[2K\u001b[14A\u001b[2K\u001b[16A\u001b[2K\u001b[13A\u001b[2K\u001b[16A\u001b[2K\u001b[13A\u001b[2K\u001b[16A\u001b[2K\u001b[13A\u001b[2K\u001b[14A\u001b[2K\u001b[13A\u001b[2K\u001b[14A\u001b[2K\u001b[13A\u001b[2K\u001b[14A\u001b[2K\u001b[13A\u001b[2K\u001b[16A\u001b[2K\u001b[16A\u001b[2K\u001b[14A\u001b[2K\u001b[16A\u001b[2K\u001b[11A\u001b[2K\u001b[16A\u001b[2K\u001b[11A\u001b[2K\u001b[16A\u001b[2K\u001b[11A\u001b[2K\u001b[16A\u001b[2K\u001b[11A\u001b[2K\u001b[16A\u001b[2K\u001b[11A\u001b[2K\u001b[16A\u001b[2K\u001b[11A\u001b[2K\u001b[16A\u001b[2K\u001b[11A\u001b[2K\u001b[16A\u001b[2K\u001b[10A\u001b[2K\u001b[9A\u001b[2K\u001b[11A\u001b[2K\u001b[9A\u001b[2K\u001b[11A\u001b[2K\u001b[16A\u001b[2K\u001b[11A\u001b[2K\u001b[16A\u001b[2K\u001b[11A\u001b[2K\u001b[6A\u001b[2K\u001b[16A\u001b[2K\u001b[5A\u001b[2K\u001b[11A\u001b[2K\u001b[4A\u001b[2K\u001b[11A\u001b[2K\u001b[11A\u001b[2K\u001b[11A\u001b[2K\u001b[3A\u001b[2K\u001b[11A\u001b[2K\u001b[2A\u001b[2K\u001b[11A\u001b[2K\u001b[1A\u001b[2K\u001b[14A\u001b[2K\u001b[14A\u001b[2K\u001b[14A\u001b[2K\u001b[11A\u001b[2K\u001b[14A\u001b[2K\u001b[14A\u001b[2K\u001b[14A\u001b[2K\u001b[16A\u001b[2K\u001b[14A\u001b[2K\u001b[16A\u001b[2K\u001b[14A\u001b[2K\u001b[16A\u001b[2K\u001b[14A\u001b[2K\u001b[16A\u001b[2K\u001b[14A\u001b[2K\u001b[16A\u001b[2K\u001b[14A\u001b[2K\u001b[16A\u001b[2K\u001b[14A\u001b[2K\u001b[16A\u001b[2K\u001b[14A\u001b[2K\u001b[16A\u001b[2K\u001b[14A\u001b[2K\u001b[16A\u001b[2K\u001b[14A\u001b[2K\u001b[16A\u001b[2K\u001b[14A\u001b[2K\u001b[16A\u001b[2K\u001b[14A\u001b[2K\u001b[14A\u001b[2K\u001b[14A\u001b[2K\u001b[14A\u001b[2K\u001b[16A\u001b[2K\u001b[14A\u001b[2K\u001b[16A\u001b[2K\u001b[14A\u001b[2K\u001b[16A\u001b[2K\u001b[16A\u001b[2K\u001b[16A\u001b[2K\u001b[16A\u001b[2K\u001b[16A\u001b[2K\u001b[16A\u001b[2K\u001b[16A\u001b[2K\u001b[16A\u001b[2K\u001b[16A\u001b[2K\u001b[16A\u001b[2K\u001b[16A\u001b[2K\u001b[16A\u001b[2K\u001b[16A\u001b[2K\u001b[16A\u001b[2K\u001b[16A\u001b[2K\u001b[16A\u001b[2K\u001b[16A\u001b[2K\u001b[16A\u001b[2K\u001b[16A\u001b[2K\u001b[16A\u001b[2K\u001b[16A\u001b[2K\u001b[16A\u001b[2K\u001b[16A\u001b[2K\u001b[16A\u001b[2K\u001b[16A\u001b[2K\u001b[16A\u001b[2K\u001b[16A\u001b[2K\u001b[16A\u001b[2K\u001b[15A\u001b[2K\u001b[15A\u001b[2K\u001b[15A\u001b[2K\u001b[15A\u001b[2K\u001b[15A\u001b[2K\u001b[15A\u001b[2K\u001b[15A\u001b[2K\u001b[15A\u001b[2K\u001b[15A\u001b[2K\u001b[15A\u001b[2K\u001b[15A\u001b[2K\u001b[15A\u001b[2K\u001b[15A\u001b[2K\u001b[15A\u001b[2K\u001b[15A\u001b[2K\u001b[15A\u001b[2K\u001b[15A\u001b[2K\u001b[15A\u001b[2K\u001b[15A\u001b[2K\u001b[15A\u001b[2K\u001b[15A\u001b[2K\u001b[15A\u001b[2K\u001b[15A\u001b[2K\u001b[15A\u001b[2K\u001b[15A\u001b[2K\u001b[15A\u001b[2K\u001b[15A\u001b[2K\u001b[15A\u001b[2K\u001b[14A\u001b[2K\u001b[14A\u001b[2K\u001b[14A\u001b[2K\u001b[14A\u001b[2K\u001b[14A\u001b[2K\u001b[14A\u001b[2K\u001b[14A\u001b[2K\u001b[14A\u001b[2K\u001b[14A\u001b[2K\u001b[14A\u001b[2K\u001b[14A\u001b[2K\u001b[14A\u001b[2K\u001b[14A\u001b[2K\u001b[14A\u001b[2K\u001b[14A\u001b[2K\u001b[14A\u001b[2K\u001b[14A\u001b[2K\u001b[14A\u001b[2K\u001b[14A\u001b[2K\u001b[14A\u001b[2K\u001b[14A\u001b[2K\u001b[14A\u001b[2K\u001b[14A\u001b[2K\u001b[14A\u001b[2K\u001b[14A\u001b[2K\u001b[14A\u001b[2K\u001b[14A\u001b[2K\u001b[14A\u001b[2K\u001b[14A\u001b[2K\u001b[14A\u001b[2K\u001b[14A\u001b[2K\u001b[14A\u001b[2K\u001b[14A\u001b[2K\u001b[14A\u001b[2K\u001b[14A\u001b[2K\u001b[14A\u001b[2K\u001b[14A\u001b[2K\u001b[14A\u001b[2K\u001b[14A\u001b[2K\u001b[14A\u001b[2K\u001b[14A\u001b[2K\u001b[14A\u001b[2K\u001b[14A\u001b[2K\u001b[14A\u001b[2K\u001b[14A\u001b[2K\u001b[14A\u001b[2K\u001b[14A\u001b[2K\u001b[14A\u001b[2K\u001b[14A\u001b[2K\u001b[14A\u001b[2K\u001b[14A\u001b[2K\u001b[14A\u001b[2K\u001b[14A\u001b[2K\u001b[14A\u001b[2K\u001b[14A\u001b[2K\u001b[14A\u001b[2K\u001b[14A\u001b[2K\u001b[14A\u001b[2K\u001b[14A\u001b[2K\u001b[14A\u001b[2K\u001b[14A\u001b[2K\u001b[14A\u001b[2K\u001b[14A\u001b[2K\u001b[14A\u001b[2K\u001b[14A\u001b[2K\u001b[14A\u001b[2K\u001b[14A\u001b[2K\u001b[14A\u001b[2K\u001b[14A\u001b[2K\u001b[14A\u001b[2K\u001b[14A\u001b[2K\u001b[14A\u001b[2K\u001b[14A\u001b[2K\u001b[14A\u001b[2K\u001b[14A\u001b[2K\u001b[14A\u001b[2K\u001b[14A\u001b[2K\u001b[14A\u001b[2K\u001b[14A\u001b[2K\u001b[14A\u001b[2K\u001b[14A\u001b[2K\u001b[14A\u001b[2K\u001b[14A\u001b[2K\u001b[14A\u001b[2K\u001b[14A\u001b[2K\u001b[14A\u001b[2K\u001b[14A\u001b[2K\u001b[14A\u001b[2K\u001b[14A\u001b[2K\u001b[14A\u001b[2K\u001b[14A\u001b[2K\u001b[14A\u001b[2K\u001b[14A\u001b[2K\u001b[14A\u001b[2K\u001b[14A\u001b[2K\u001b[14A\u001b[2K\u001b[14A\u001b[2K\u001b[14A\u001b[2K\u001b[14A\u001b[2K\u001b[14A\u001b[2K\u001b[14A\u001b[2K\u001b[14A\u001b[2K\u001b[14A\u001b[2K\u001b[14A\u001b[2K\u001b[14A\u001b[2K\u001b[14A\u001b[2K\u001b[14A\u001b[2K\u001b[14A\u001b[2K\u001b[14A\u001b[2K\u001b[14A\u001b[2K\u001b[14A\u001b[2K\u001b[14A\u001b[2K\u001b[14A\u001b[2K\u001b[14A\u001b[2K\u001b[14A\u001b[2K\u001b[14A\u001b[2K\u001b[14A\u001b[2K\u001b[14A\u001b[2K\u001b[14A\u001b[2K\u001b[14A\u001b[2K\u001b[14A\u001b[2K\u001b[14A\u001b[2K\u001b[14A\u001b[2K\u001b[14A\u001b[2K\u001b[14A\u001b[2K\u001b[14A\u001b[2K\u001b[14A\u001b[2K\u001b[14A\u001b[2K\u001b[14A\u001b[2K\u001b[14A\u001b[2K\u001b[14A\u001b[2K\u001b[14A\u001b[2K\u001b[14A\u001b[2K\u001b[14A\u001b[2K\u001b[14A\u001b[2K\u001b[14A\u001b[2K\u001b[14A\u001b[2K\u001b[14A\u001b[2K\u001b[14A\u001b[2K\u001b[14A\u001b[2K\u001b[14A\u001b[2K\u001b[14A\u001b[2K\u001b[14A\u001b[2K\u001b[14A\u001b[2K\u001b[14A\u001b[2K\u001b[14A\u001b[2K\u001b[14A\u001b[2K\u001b[14A\u001b[2K\u001b[14A\u001b[2K\u001b[14A\u001b[2K\u001b[14A\u001b[2K\u001b[14A\u001b[2K\u001b[14A\u001b[2K\u001b[14A\u001b[2K\u001b[14A\u001b[2K\u001b[14A\u001b[2K\u001b[14A\u001b[2K\u001b[14A\u001b[2K\u001b[14A\u001b[2K\u001b[14A\u001b[2K\u001b[14A\u001b[2K\u001b[14A\u001b[2K\u001b[14A\u001b[2K\u001b[14A\u001b[2K\u001b[14A\u001b[2K\u001b[14A\u001b[2K\u001b[14A\u001b[2K\u001b[14A\u001b[2K\u001b[14A\u001b[2K\u001b[14A\u001b[2K\u001b[14A\u001b[2K\u001b[14A\u001b[2K\u001b[14A\u001b[2K\u001b[14A\u001b[2K\u001b[14A\u001b[2K\u001b[14A\u001b[2K\u001b[14A\u001b[2K\u001b[14A\u001b[2K\u001b[14A\u001b[2K\u001b[14A\u001b[2K\u001b[14A\u001b[2K\u001b[14A\u001b[2K\u001b[13A\u001b[2K\u001b[13A\u001b[2K\u001b[13A\u001b[2K\u001b[13A\u001b[2K\u001b[13A\u001b[2K\u001b[13A\u001b[2K\u001b[13A\u001b[2K\u001b[13A\u001b[2K\u001b[13A\u001b[2K\u001b[13A\u001b[2K\u001b[13A\u001b[2K\u001b[13A\u001b[2K\u001b[13A\u001b[2K\u001b[13A\u001b[2K\u001b[13A\u001b[2K\u001b[13A\u001b[2K\u001b[13A\u001b[2K\u001b[13A\u001b[2K\u001b[13A\u001b[2K\u001b[13A\u001b[2K\u001b[13A\u001b[2K\u001b[13A\u001b[2K\u001b[13A\u001b[2K\u001b[13A\u001b[2K\u001b[13A\u001b[2K\u001b[13A\u001b[2K\u001b[13A\u001b[2K\u001b[13A\u001b[2K\u001b[13A\u001b[2K\u001b[13A\u001b[2K\u001b[13A\u001b[2K\u001b[13A\u001b[2K\u001b[13A\u001b[2K\u001b[13A\u001b[2K\u001b[13A\u001b[2K\u001b[13A\u001b[2K\u001b[13A\u001b[2K\u001b[13A\u001b[2K\u001b[13A\u001b[2K\u001b[13A\u001b[2K\u001b[13A\u001b[2K\u001b[13A\u001b[2K\u001b[13A\u001b[2K\u001b[13A\u001b[2K\u001b[13A\u001b[2K\u001b[13A\u001b[2K\u001b[13A\u001b[2K\u001b[13A\u001b[2K\u001b[13A\u001b[2K\u001b[13A\u001b[2K\u001b[12A\u001b[2K\u001b[12A\u001b[2K\u001b[11A\u001b[2K\u001b[11A\u001b[2K\u001b[11A\u001b[2K\u001b[11A\u001b[2K\u001b[11A\u001b[2K\u001b[11A\u001b[2K\u001b[11A\u001b[2K\u001b[11A\u001b[2K\u001b[11A\u001b[2K\u001b[11A\u001b[2K\u001b[11A\u001b[2K\u001b[11A\u001b[2K\u001b[11A\u001b[2K\u001b[11A\u001b[2K\u001b[11A\u001b[2K\u001b[11A\u001b[2K\u001b[11A\u001b[2K\u001b[11A\u001b[2K\u001b[11A\u001b[2K\u001b[11A\u001b[2K\u001b[11A\u001b[2K\u001b[11A\u001b[2K\u001b[11A\u001b[2K\u001b[11A\u001b[2K\u001b[11A\u001b[2K\u001b[11A\u001b[2K\u001b[11A\u001b[2K\u001b[11A\u001b[2K\u001b[11A\u001b[2K\u001b[11A\u001b[2K\u001b[11A\u001b[2K\u001b[11A\u001b[2K\u001b[11A\u001b[2K\u001b[11A\u001b[2K\u001b[11A\u001b[2K\u001b[11A\u001b[2K\u001b[11A\u001b[2K\u001b[11A\u001b[2K\u001b[11A\u001b[2K\u001b[11A\u001b[2K\u001b[11A\u001b[2K\u001b[11A\u001b[2K\u001b[10A\u001b[2K\u001b[9A\u001b[2K\u001b[9A\u001b[2K\u001b[9A\u001b[2K\u001b[9A\u001b[2K\u001b[9A\u001b[2K\u001b[9A\u001b[2K\u001b[8A\u001b[2K\u001b[7A\u001b[2K\u001b[6A\u001b[2K\u001b[6A\u001b[2K\u001b[5A\u001b[2K\u001b[5A\u001b[2K\u001b[4A\u001b[2K\u001b[4A\u001b[2K\u001b[3A\u001b[2K\u001b[2A\u001b[2K\u001b[2A\u001b[2K\u001b[1A\u001b[2K\u001b[1A\u001b[2KDigest: sha256:b9e981a39040b0d50f7a3856a65ecd1fcc1aa1f008456e8e5bcb38bc64462653\n",
      "Status: Downloaded newer image for 683313688378.dkr.ecr.us-east-1.amazonaws.com/sagemaker-xgboost:1.2-1\n",
      "683313688378.dkr.ecr.us-east-1.amazonaws.com/sagemaker-xgboost:1.2-1\n"
     ]
    }
   ],
   "source": [
    "!docker pull 683313688378.dkr.ecr.us-east-1.amazonaws.com/sagemaker-xgboost:1.2-1"
   ]
  },
  {
   "cell_type": "code",
   "execution_count": 10,
   "id": "d97d69e0",
   "metadata": {},
   "outputs": [
    {
     "name": "stdout",
     "output_type": "stream",
     "text": [
      "REPOSITORY                                                       TAG       IMAGE ID       CREATED       SIZE\n",
      "683313688378.dkr.ecr.us-east-1.amazonaws.com/sagemaker-xgboost   1.2-1     8c079872ceca   13 days ago   4.78GB\n",
      "131046133021.dkr.ecr.us-east-1.amazonaws.com/iris-model          latest    a6181137a083   2 weeks ago   1.91GB\n"
     ]
    }
   ],
   "source": [
    "! docker image list"
   ]
  },
  {
   "cell_type": "code",
   "execution_count": null,
   "id": "34fabefd",
   "metadata": {},
   "outputs": [
    {
     "name": "stdout",
     "output_type": "stream",
     "text": [
      "\u001b]0;root@eea069bcf11f: /\u0007root@eea069bcf11f:/# "
     ]
    }
   ],
   "source": [
    "! docker run -it 683313688378.dkr.ecr.us-east-1.amazonaws.com/sagemaker-xgboost:1.2-1 bash"
   ]
  },
  {
   "cell_type": "code",
   "execution_count": 15,
   "id": "01d1a501",
   "metadata": {},
   "outputs": [
    {
     "name": "stdout",
     "output_type": "stream",
     "text": [
      "ADD file:6ef542de9959c3061f2d0758adb031e226b221a1a2cd748ff59e6fc13216a1c0 in /\n",
      "RUN set -xe\n",
      "   &&  echo '#!/bin/sh' > /usr/sbin/policy-rc.d\n",
      "   &&  echo 'exit 101' >> /usr/sbin/policy-rc.d\n",
      "   &&  chmod +x /usr/sbin/policy-rc.d\n",
      "   &&  dpkg-divert --local --rename --add /sbin/initctl\n",
      "   &&  cp -a /usr/sbin/policy-rc.d /sbin/initctl\n",
      "   &&  sed -i 's/^exit.*/exit 0/' /sbin/initctl\n",
      "   &&  echo 'force-unsafe-io' > /etc/dpkg/dpkg.cfg.d/docker-apt-speedup\n",
      "   &&  echo 'DPkg::Post-Invoke { \"rm -f /var/cache/apt/archives/*.deb /var/cache/apt/archives/partial/*.deb /var/cache/apt/*.bin || true\"; };' > /etc/apt/apt.conf.d/docker-clean\n",
      "   &&  echo 'APT::Update::Post-Invoke { \"rm -f /var/cache/apt/archives/*.deb /var/cache/apt/archives/partial/*.deb /var/cache/apt/*.bin || true\"; };' >> /etc/apt/apt.conf.d/docker-clean\n",
      "   &&  echo 'Dir::Cache::pkgcache \"\"; Dir::Cache::srcpkgcache \"\";' >> /etc/apt/apt.conf.d/docker-clean\n",
      "   &&  echo 'Acquire::Languages \"none\";' > /etc/apt/apt.conf.d/docker-no-languages\n",
      "   &&  echo 'Acquire::GzipIndexes \"true\"; Acquire::CompressionTypes::Order:: \"gz\";' > /etc/apt/apt.conf.d/docker-gzip-indexes\n",
      "   &&  echo 'Apt::AutoRemove::SuggestsImportant \"false\";' > /etc/apt/apt.conf.d/docker-autoremove-suggests\n",
      "RUN [ -z \"$(apt-get indextargets)\" ]\n",
      "RUN mkdir -p /run/systemd\n",
      "   &&  echo 'docker' > /run/systemd/container\n",
      "CMD [\"/bin/bash\"]\n",
      "LABEL maintainer=NVIDIA CORPORATION <cudatools@nvidia.com> 0B buildkit.dockerfile.v0\n",
      "RUN /bin/sh -c apt-get update\n",
      "   &&  apt-get install -y --no-install-recommends gnupg2 curl ca-certificates\n",
      "   &&  curl -fsSL https://developer.download.nvidia.com/compute/cuda/repos/ubuntu1804/x86_64/7fa2af80.pub | apt-key add -\n",
      "   &&  echo \"deb https://developer.download.nvidia.com/compute/cuda/repos/ubuntu1804/x86_64 /\" > /etc/apt/sources.list.d/cuda.list\n",
      "   &&  echo \"deb https://developer.download.nvidia.com/compute/machine-learning/repos/ubuntu1804/x86_64 /\" > /etc/apt/sources.list.d/nvidia-ml.list\n",
      "   &&  apt-get purge --autoremove -y curl\n",
      "   &&  rm -rf /var/lib/apt/lists/* # buildkit 16.6MB buildkit.dockerfile.v0\n",
      "ENV CUDA_VERSION=10.2.89 0B buildkit.dockerfile.v0\n",
      "ENV CUDA_PKG_VERSION=10-2=10.2.89-1 0B buildkit.dockerfile.v0\n",
      "RUN /bin/sh -c apt-get update\n",
      "   &&  apt-get install -y --no-install-recommends cuda-cudart-$CUDA_PKG_VERSION cuda-compat-10-2\n",
      "   &&  ln -s cuda-10.2 /usr/local/cuda\n",
      "   &&  rm -rf /var/lib/apt/lists/* # buildkit 27.2MB buildkit.dockerfile.v0\n",
      "RUN /bin/sh -c echo \"/usr/local/nvidia/lib\" >> /etc/ld.so.conf.d/nvidia.conf\n",
      "   &&  echo \"/usr/local/nvidia/lib64\" >> /etc/ld.so.conf.d/nvidia.conf # buildkit 46B buildkit.dockerfile.v0\n",
      "ENV PATH=/usr/local/nvidia/bin:/usr/local/cuda/bin:/usr/local/sbin:/usr/local/bin:/usr/sbin:/usr/bin:/sbin:/bin 0B buildkit.dockerfile.v0\n",
      "ENV LD_LIBRARY_PATH=/usr/local/nvidia/lib:/usr/local/nvidia/lib64 0B buildkit.dockerfile.v0\n",
      "ENV NVIDIA_VISIBLE_DEVICES=all 0B buildkit.dockerfile.v0\n",
      "ENV NVIDIA_DRIVER_CAPABILITIES=compute,utility 0B buildkit.dockerfile.v0\n",
      "ENV NVIDIA_REQUIRE_CUDA=cuda>=10.2 brand=tesla,driver>=396,driver<397 brand=tesla,driver>=410,driver<411 brand=tesla,driver>=418,driver<419 brand=tesla,driver>=440,driver<441 0B buildkit.dockerfile.v0\n",
      "ARG MINICONDA_VERSION=4.8.3\n",
      "ARG CONDA_PY_VERSION=38\n",
      "ARG CONDA_CHECKSUM=d63adf39f2c220950a063e0529d4ff74\n",
      "ARG CONDA_PKG_VERSION=4.9.0\n",
      "ARG PYTHON_VERSION=3.7.10\n",
      "ARG PYARROW_VERSION=0.16.0\n",
      "ARG MLIO_VERSION=0.6.0\n",
      "ARG XGBOOST_VERSION=1.2.0\n",
      "ENV DEBIAN_FRONTEND=noninteractive\n",
      "ENV LANG=C.UTF-8\n",
      "ENV LC_ALL=C.UTF-8\n",
      "ENV PYTHONDONTWRITEBYTECODE=1\n",
      "ENV PYTHONUNBUFFERED=1\n",
      "ENV PYTHONIOENCODING=utf-8\n",
      "|8 CONDA_CHECKSUM=d63adf39f2c220950a063e0529d4ff74 CONDA_PKG_VERSION=4.9.0 CONDA_PY_VERSION=38 MINICONDA_VERSION=4.8.3 MLIO_VERSION=0.6.0 PYARROW_VERSION=0.16.0 PYTHON_VERSION=3.7.10 XGBOOST_VERSION=1.2.0 /bin/sh -c apt-get update\n",
      "   &&  apt-get -y upgrade\n",
      "   &&  apt-get -y install --no-install-recommends build-essential curl git jq libatlas-base-dev nginx openjdk-8-jdk-headless unzip wget\n",
      "   &&  apt-get -y install --no-install-recommends apt-transport-https ca-certificates gnupg software-properties-common\n",
      "   &&  wget -O - https://apt.kitware.com/keys/kitware-archive-latest.asc 2>/dev/null | gpg --dearmor - | tee /etc/apt/trusted.gpg.d/kitware.gpg >/dev/null\n",
      "   &&  apt-add-repository 'deb https://apt.kitware.com/ubuntu/ bionic main'\n",
      "   &&  apt-get update\n",
      "   &&  apt-get install -y --no-install-recommends autoconf automake build-essential cmake=3.18.4-0kitware1 cmake-data=3.18.4-0kitware1 doxygen libcurl4-openssl-dev libssl-dev libtool ninja-build python3-dev python3-distutils python3-pip zlib1g-dev\n",
      "   &&  rm -rf /var/lib/apt/lists/*\n",
      "|8 CONDA_CHECKSUM=d63adf39f2c220950a063e0529d4ff74 CONDA_PKG_VERSION=4.9.0 CONDA_PY_VERSION=38 MINICONDA_VERSION=4.8.3 MLIO_VERSION=0.6.0 PYARROW_VERSION=0.16.0 PYTHON_VERSION=3.7.10 XGBOOST_VERSION=1.2.0 /bin/sh -c cd /tmp\n",
      "   &&  curl -L --output /tmp/Miniconda3.sh https://repo.anaconda.com/miniconda/Miniconda3-py${CONDA_PY_VERSION}_${MINICONDA_VERSION}-Linux-x86_64.sh\n",
      "   &&  echo \"${CONDA_CHECKSUM} /tmp/Miniconda3.sh\" | md5sum -c -\n",
      "   &&  bash /tmp/Miniconda3.sh -bfp /miniconda3\n",
      "   &&  rm /tmp/Miniconda3.sh\n",
      "ENV PATH=/miniconda3/bin:/usr/local/nvidia/bin:/usr/local/cuda/bin:/usr/local/sbin:/usr/local/bin:/usr/sbin:/usr/bin:/sbin:/bin\n",
      "|8 CONDA_CHECKSUM=d63adf39f2c220950a063e0529d4ff74 CONDA_PKG_VERSION=4.9.0 CONDA_PY_VERSION=38 MINICONDA_VERSION=4.8.3 MLIO_VERSION=0.6.0 PYARROW_VERSION=0.16.0 PYTHON_VERSION=3.7.10 XGBOOST_VERSION=1.2.0 /bin/sh -c echo \"conda ${CONDA_PKG_VERSION}\" >> /miniconda3/conda-meta/pinned\n",
      "   &&  conda config --system --set auto_update_conda false\n",
      "   &&  conda config --system --set show_channel_urls true\n",
      "   &&  echo \"python ${PYTHON_VERSION}.*\" >> /miniconda3/conda-meta/pinned\n",
      "   &&  conda install -c conda-forge python=${PYTHON_VERSION}\n",
      "   &&  conda install conda=${CONDA_PKG_VERSION}\n",
      "   &&  conda update -y conda\n",
      "   &&  conda install -c conda-forge pyarrow=${PYARROW_VERSION}\n",
      "   &&  cd /tmp\n",
      "   &&  git clone --branch v${MLIO_VERSION} https://github.com/awslabs/ml-io.git mlio\n",
      "   &&  cd mlio\n",
      "   &&  build-tools/build-dependency build/third-party all\n",
      "   &&  mkdir -p build/release\n",
      "   &&  cd build/release\n",
      "   &&  cmake -GNinja -DCMAKE_BUILD_TYPE=RelWithDebInfo -DCMAKE_PREFIX_PATH=\"$(pwd)/../third-party\" ../..\n",
      "   &&  cmake --build .\n",
      "   &&  cmake --build . --target install\n",
      "   &&  cmake -DMLIO_INCLUDE_PYTHON_EXTENSION=ON -DMLIO_INCLUDE_ARROW_INTEGRATION=ON ../..\n",
      "   &&  cmake --build . --target mlio-py\n",
      "   &&  cmake --build . --target mlio-arrow\n",
      "   &&  cd ../../src/mlio-py\n",
      "   &&  python3 setup.py bdist_wheel\n",
      "   &&  python3 -m pip install --upgrade pip\n",
      "   &&  python3 -m pip install dist/*.whl\n",
      "   &&  cp -r /tmp/mlio/build/third-party/lib/intel64/gcc4.7/* /usr/local/lib/\n",
      "   &&  ldconfig\n",
      "   &&  rm -rf /tmp/mlio\n",
      "|8 CONDA_CHECKSUM=d63adf39f2c220950a063e0529d4ff74 CONDA_PKG_VERSION=4.9.0 CONDA_PY_VERSION=38 MINICONDA_VERSION=4.8.3 MLIO_VERSION=0.6.0 PYARROW_VERSION=0.16.0 PYTHON_VERSION=3.7.10 XGBOOST_VERSION=1.2.0 /bin/sh -c python3 -m pip install --no-cache -I xgboost==${XGBOOST_VERSION}\n",
      "ARG SAGEMAKER_XGBOOST_VERSION\n",
      "COPY file:ccca4ef34827d7b68ff4f54e5d46ac60a7deb997533f118c7bf31698e78956d7 in /requirements.txt\n",
      "|1 SAGEMAKER_XGBOOST_VERSION=1.2-1 /bin/sh -c python3 -m pip install -r /requirements.txt\n",
      "   &&  rm /requirements.txt\n",
      "COPY file:e4c1ab35589659abde3e4affc119b79647b9d0cafc8c23e501223ed5e4017931 in /sagemaker_xgboost_container-1.0-py2.py3-none-any.whl\n",
      "|1 SAGEMAKER_XGBOOST_VERSION=1.2-1 /bin/sh -c rm -rf /miniconda3/lib/python3.7/site-packages/numpy-1.19.4.dist-info\n",
      "   &&  python3 -m pip install --no-cache /sagemaker_xgboost_container-1.0-py2.py3-none-any.whl\n",
      "   &&  python3 -m pip uninstall -y typing\n",
      "   &&  rm /sagemaker_xgboost_container-1.0-py2.py3-none-any.whl\n",
      "COPY file:eef04c3fbb657a519988f386f00c36e97120396a1b8f04a429d456f8b5bc98b4 in /miniconda3/lib/python/site-packages/xgboost/dmlc-core/tracker/dmlc_tracker/tracker.py\n",
      "ENV PYTHONPATH=:/miniconda3/lib/python/site-packages/xgboost/dmlc-core/tracker\n",
      "|1 SAGEMAKER_XGBOOST_VERSION=1.2-1 /bin/sh -c useradd -m model-server\n",
      "|1 SAGEMAKER_XGBOOST_VERSION=1.2-1 /bin/sh -c mkdir -p /home/model-server/tmp\n",
      "   &&  chown -R model-server /home/model-server\n",
      "COPY file:8e0c4c19889a9b14a9fc3581fb448916fbd3ea8d86438759c3d9a89b95e1fe8d in /home/model-server\n",
      "ENV XGBOOST_MMS_CONFIG=/home/model-server/config.properties\n",
      "|1 SAGEMAKER_XGBOOST_VERSION=1.2-1 /bin/sh -c mkdir -p /tmp/plugins\n",
      "COPY file:bc17e66931128bf622fb4725c7aa0dd545f8dd110290c43f9cc39d67a3810ca3 in /tmp/plugins\n",
      "|1 SAGEMAKER_XGBOOST_VERSION=1.2-1 /bin/sh -c chmod +x /tmp/plugins/endpoints-1.0.jar\n",
      "|1 SAGEMAKER_XGBOOST_VERSION=1.2-1 /bin/sh -c mkdir -p /opt/ml/models\n",
      "|1 SAGEMAKER_XGBOOST_VERSION=1.2-1 /bin/sh -c chmod +rwx /opt/ml/models\n",
      "LABEL com.amazonaws.sagemaker.capabilities.multi-models=true\n",
      "ENV SM_INPUT=/opt/ml/input\n",
      "ENV SM_INPUT_TRAINING_CONFIG_FILE=/opt/ml/input/config/hyperparameters.json\n",
      "ENV SM_INPUT_DATA_CONFIG_FILE=/opt/ml/input/config/inputdataconfig.json\n",
      "ENV SM_CHECKPOINT_CONFIG_FILE=/opt/ml/input/config/checkpointconfig.json\n",
      "ENV SM_MODEL_DIR=/opt/ml/model\n",
      "ENV SAGEMAKER_TRAINING_MODULE=sagemaker_xgboost_container.training:main\n",
      "ENV SAGEMAKER_SERVING_MODULE=sagemaker_xgboost_container.serving:main\n",
      "EXPOSE 8080/tcp\n",
      "ENV TEMP=/home/model-server/tmp\n",
      "LABEL com.amazonaws.sagemaker.capabilities.accept-bind-to-port=true\n",
      "LABEL TRANSFORM_TYPE=Aggregate-1.0\n",
      "LABEL VERSION_SET_NAME=SMFrameworksXGBoost/release-cdk\n",
      "LABEL VERSION_SET_REVISION=6090384039\n",
      "LABEL transform_id=4937332d-937e-4843-a277-982dbf913c4d_sagemaker-xgboost-1_2-1\n",
      "LABEL TRANSFORM_TYPE=Aggregate-1.0\n",
      "LABEL VERSION_SET_NAME=SMFrameworksXGBoost/release-cdk\n",
      "LABEL VERSION_SET_REVISION=6093940585\n",
      "LABEL transform_id=feda6983-59e8-4eb0-8012-fbe7bbc5a22d_sagemaker-xgboost-1_2-1\n"
     ]
    }
   ],
   "source": [
    "!docker history 8c079872ceca --no-trunc $argv  | tac | tr -s ' ' | cut -d \" \" -f 5- | sed 's,^/bin/sh -c #(nop) ,,g' | sed 's,^/bin/sh -c,RUN,g' | sed 's, && ,\\n  & ,g' | sed 's,\\s*[0-9]*[\\.]*[0-9]*[kMG]*B\\s*$,,g' | head -n -1"
   ]
  },
  {
   "cell_type": "code",
   "execution_count": 24,
   "id": "91060689",
   "metadata": {},
   "outputs": [
    {
     "name": "stdout",
     "output_type": "stream",
     "text": [
      "[\n",
      "    {\n",
      "        \"Id\": \"sha256:74ffb9a178cb13c087ac268c53ed7b3dc8afbbaf1ecd0c5b7dbf3bce44f094b7\",\n",
      "        \"RepoTags\": [\n",
      "            \"683313688378.dkr.ecr.us-east-1.amazonaws.com/sagemaker-xgboost:1.2-1\"\n",
      "        ],\n",
      "        \"RepoDigests\": [\n",
      "            \"683313688378.dkr.ecr.us-east-1.amazonaws.com/sagemaker-xgboost@sha256:566b40b730565c53d5d39c9810cc35784eba72a6c3bbf133c6b9840228c69b42\"\n",
      "        ],\n",
      "        \"Parent\": \"\",\n",
      "        \"Comment\": \"\",\n",
      "        \"Created\": \"2022-08-22T21:19:39.242238818Z\",\n",
      "        \"Container\": \"a3ec2016ae6778ed2d5cc0faf4f3e5a51fd84251cbca2a9ee4430c9e63d47e76\",\n",
      "        \"ContainerConfig\": {\n",
      "            \"Hostname\": \"a3ec2016ae67\",\n",
      "            \"Domainname\": \"\",\n",
      "            \"User\": \"\",\n",
      "            \"AttachStdin\": false,\n",
      "            \"AttachStdout\": false,\n",
      "            \"AttachStderr\": false,\n",
      "            \"ExposedPorts\": {\n",
      "                \"8080/tcp\": {}\n",
      "            },\n",
      "            \"Tty\": false,\n",
      "            \"OpenStdin\": false,\n",
      "            \"StdinOnce\": false,\n",
      "            \"Env\": [\n",
      "                \"PATH=/miniconda3/bin:/usr/local/nvidia/bin:/usr/local/cuda/bin:/usr/local/sbin:/usr/local/bin:/usr/sbin:/usr/bin:/sbin:/bin\",\n",
      "                \"CUDA_VERSION=10.2.89\",\n",
      "                \"CUDA_PKG_VERSION=10-2=10.2.89-1\",\n",
      "                \"LD_LIBRARY_PATH=/usr/local/nvidia/lib:/usr/local/nvidia/lib64\",\n",
      "                \"NVIDIA_VISIBLE_DEVICES=all\",\n",
      "                \"NVIDIA_DRIVER_CAPABILITIES=compute,utility\",\n",
      "                \"NVIDIA_REQUIRE_CUDA=cuda>=10.2 brand=tesla,driver>=396,driver<397 brand=tesla,driver>=410,driver<411 brand=tesla,driver>=418,driver<419 brand=tesla,driver>=440,driver<441\",\n",
      "                \"DEBIAN_FRONTEND=noninteractive\",\n",
      "                \"LANG=C.UTF-8\",\n",
      "                \"LC_ALL=C.UTF-8\",\n",
      "                \"PYTHONDONTWRITEBYTECODE=1\",\n",
      "                \"PYTHONUNBUFFERED=1\",\n",
      "                \"PYTHONIOENCODING=utf-8\",\n",
      "                \"PYTHONPATH=:/miniconda3/lib/python/site-packages/xgboost/dmlc-core/tracker\",\n",
      "                \"XGBOOST_MMS_CONFIG=/home/model-server/config.properties\",\n",
      "                \"SM_INPUT=/opt/ml/input\",\n",
      "                \"SM_INPUT_TRAINING_CONFIG_FILE=/opt/ml/input/config/hyperparameters.json\",\n",
      "                \"SM_INPUT_DATA_CONFIG_FILE=/opt/ml/input/config/inputdataconfig.json\",\n",
      "                \"SM_CHECKPOINT_CONFIG_FILE=/opt/ml/input/config/checkpointconfig.json\",\n",
      "                \"SM_MODEL_DIR=/opt/ml/model\",\n",
      "                \"SAGEMAKER_TRAINING_MODULE=sagemaker_xgboost_container.training:main\",\n",
      "                \"SAGEMAKER_SERVING_MODULE=sagemaker_xgboost_container.serving:main\",\n",
      "                \"TEMP=/home/model-server/tmp\"\n",
      "            ],\n",
      "            \"Cmd\": [\n",
      "                \"/bin/sh\",\n",
      "                \"-c\",\n",
      "                \"#(nop) \",\n",
      "                \"LABEL transform_id=1034f5a0-c15c-4c79-babb-67aee275ce03_sagemaker-xgboost-1_2-1\"\n",
      "            ],\n",
      "            \"Image\": \"sha256:285fd69608b0e46e9323f650e6081eaad200ebe20b5d83742afe20fe8fd53848\",\n",
      "            \"Volumes\": null,\n",
      "            \"WorkingDir\": \"\",\n",
      "            \"Entrypoint\": null,\n",
      "            \"OnBuild\": [],\n",
      "            \"Labels\": {\n",
      "                \"TRANSFORM_TYPE\": \"Aggregate-1.0\",\n",
      "                \"VERSION_SET_NAME\": \"SMFrameworksXGBoost/release-cdk\",\n",
      "                \"VERSION_SET_REVISION\": \"6092766634\",\n",
      "                \"com.amazonaws.sagemaker.capabilities.accept-bind-to-port\": \"true\",\n",
      "                \"com.amazonaws.sagemaker.capabilities.multi-models\": \"true\",\n",
      "                \"maintainer\": \"NVIDIA CORPORATION <cudatools@nvidia.com>\",\n",
      "                \"transform_id\": \"1034f5a0-c15c-4c79-babb-67aee275ce03_sagemaker-xgboost-1_2-1\"\n",
      "            }\n",
      "        },\n",
      "        \"DockerVersion\": \"20.10.15\",\n",
      "        \"Author\": \"\",\n",
      "        \"Config\": {\n",
      "            \"Hostname\": \"\",\n",
      "            \"Domainname\": \"\",\n",
      "            \"User\": \"\",\n",
      "            \"AttachStdin\": false,\n",
      "            \"AttachStdout\": false,\n",
      "            \"AttachStderr\": false,\n",
      "            \"ExposedPorts\": {\n",
      "                \"8080/tcp\": {}\n",
      "            },\n",
      "            \"Tty\": false,\n",
      "            \"OpenStdin\": false,\n",
      "            \"StdinOnce\": false,\n",
      "            \"Env\": [\n",
      "                \"PATH=/miniconda3/bin:/usr/local/nvidia/bin:/usr/local/cuda/bin:/usr/local/sbin:/usr/local/bin:/usr/sbin:/usr/bin:/sbin:/bin\",\n",
      "                \"CUDA_VERSION=10.2.89\",\n",
      "                \"CUDA_PKG_VERSION=10-2=10.2.89-1\",\n",
      "                \"LD_LIBRARY_PATH=/usr/local/nvidia/lib:/usr/local/nvidia/lib64\",\n",
      "                \"NVIDIA_VISIBLE_DEVICES=all\",\n",
      "                \"NVIDIA_DRIVER_CAPABILITIES=compute,utility\",\n",
      "                \"NVIDIA_REQUIRE_CUDA=cuda>=10.2 brand=tesla,driver>=396,driver<397 brand=tesla,driver>=410,driver<411 brand=tesla,driver>=418,driver<419 brand=tesla,driver>=440,driver<441\",\n",
      "                \"DEBIAN_FRONTEND=noninteractive\",\n",
      "                \"LANG=C.UTF-8\",\n",
      "                \"LC_ALL=C.UTF-8\",\n",
      "                \"PYTHONDONTWRITEBYTECODE=1\",\n",
      "                \"PYTHONUNBUFFERED=1\",\n",
      "                \"PYTHONIOENCODING=utf-8\",\n",
      "                \"PYTHONPATH=:/miniconda3/lib/python/site-packages/xgboost/dmlc-core/tracker\",\n",
      "                \"XGBOOST_MMS_CONFIG=/home/model-server/config.properties\",\n",
      "                \"SM_INPUT=/opt/ml/input\",\n",
      "                \"SM_INPUT_TRAINING_CONFIG_FILE=/opt/ml/input/config/hyperparameters.json\",\n",
      "                \"SM_INPUT_DATA_CONFIG_FILE=/opt/ml/input/config/inputdataconfig.json\",\n",
      "                \"SM_CHECKPOINT_CONFIG_FILE=/opt/ml/input/config/checkpointconfig.json\",\n",
      "                \"SM_MODEL_DIR=/opt/ml/model\",\n",
      "                \"SAGEMAKER_TRAINING_MODULE=sagemaker_xgboost_container.training:main\",\n",
      "                \"SAGEMAKER_SERVING_MODULE=sagemaker_xgboost_container.serving:main\",\n",
      "                \"TEMP=/home/model-server/tmp\"\n",
      "            ],\n",
      "            \"Cmd\": [\n",
      "                \"/bin/bash\"\n",
      "            ],\n",
      "            \"Image\": \"sha256:285fd69608b0e46e9323f650e6081eaad200ebe20b5d83742afe20fe8fd53848\",\n",
      "            \"Volumes\": null,\n",
      "            \"WorkingDir\": \"\",\n",
      "            \"Entrypoint\": null,\n",
      "            \"OnBuild\": [],\n",
      "            \"Labels\": {\n",
      "                \"TRANSFORM_TYPE\": \"Aggregate-1.0\",\n",
      "                \"VERSION_SET_NAME\": \"SMFrameworksXGBoost/release-cdk\",\n",
      "                \"VERSION_SET_REVISION\": \"6092766634\",\n",
      "                \"com.amazonaws.sagemaker.capabilities.accept-bind-to-port\": \"true\",\n",
      "                \"com.amazonaws.sagemaker.capabilities.multi-models\": \"true\",\n",
      "                \"maintainer\": \"NVIDIA CORPORATION <cudatools@nvidia.com>\",\n",
      "                \"transform_id\": \"1034f5a0-c15c-4c79-babb-67aee275ce03_sagemaker-xgboost-1_2-1\"\n",
      "            }\n",
      "        },\n",
      "        \"Architecture\": \"amd64\",\n",
      "        \"Os\": \"linux\",\n",
      "        \"Size\": 4781503713,\n",
      "        \"VirtualSize\": 4781503713,\n",
      "        \"GraphDriver\": {\n",
      "            \"Data\": {\n",
      "                \"LowerDir\": \"/var/lib/docker/overlay2/987473df68ea10dd55f71cf4b510c6f1d2099ff040bab901a6afb77bb84a34e9/diff:/var/lib/docker/overlay2/6bca5d02ba508d37904eb33fb9f7c9faaa8f54869cd71e23e821b2963391a964/diff:/var/lib/docker/overlay2/d896484225dcd330007759eb9e8aa10989dc480cf8a6381adab2c3eeed15f99a/diff:/var/lib/docker/overlay2/1afc8e20c0fb59a2126339d3415c4d0809216394c9695d4a0f63cc169a2a2a78/diff:/var/lib/docker/overlay2/7eeaab63b3d55c16f95669a649ffa7ecb9e81040593ad484a09365610788ca0d/diff:/var/lib/docker/overlay2/a137a37d9c178e270f63de33c2290ceeff0d1a270f3178b3ea3c9e940405072c/diff:/var/lib/docker/overlay2/60d12833e29b233c0e001687786016bbb6f5c5503aac5a6b2770375afad64467/diff:/var/lib/docker/overlay2/1c30459e3f06f09f1ee79f80def7577dc97b5435477ee7349b7933957fe62192/diff:/var/lib/docker/overlay2/44d99a6233da2353cce28f296f2b3b30104841d8538935a61094203ef3cb9296/diff:/var/lib/docker/overlay2/bee62818308d0e219f6eccbb7bbcc666db79c6417e4778b98bb6ea420f954cab/diff:/var/lib/docker/overlay2/43ab42b50a5f110d722fc4ed4f611d4df30dc561c15bab918447ae0862390a3c/diff:/var/lib/docker/overlay2/d9cbf0914144858b25d9df1009db1eeb4305f0a15579bc449085e97b42b875a3/diff:/var/lib/docker/overlay2/a86625a469a9c6adeda8e3439d4293d850d0e281f08b48b856280900e71b08ad/diff:/var/lib/docker/overlay2/19355f30d5a6832acb4139366ebac3da4496f6475b18aa165252b48b7c507c95/diff:/var/lib/docker/overlay2/6dea9a64490eac3312b9861e2a6586d4f2b737d0ae3eb239acfda5ce89f67878/diff:/var/lib/docker/overlay2/04bbf1e2ccbc12cc3afedb12c6c3b6388ec9d684682588440423d88ce3153d19/diff:/var/lib/docker/overlay2/f98fec525dfa11789374d19aa6c5e51797d737075bb93bc7bd89ca5ef7fee86a/diff:/var/lib/docker/overlay2/69eec476b341d48be8958555508b935f7b1957db289bf2d8354e2a7990e1326c/diff:/var/lib/docker/overlay2/94e2b57f23d30461e870864cb7093ba9e8c2a8d58bded22c70832e002b82d949/diff:/var/lib/docker/overlay2/1ca30654cff223d615be0d4c13186b73d1328d50e76c64a12b554df61ee34fcf/diff:/var/lib/docker/overlay2/9fea24a73572dd5c8d2097016158529c12942bfef86948bf3d1fde1c59f40c11/diff\",\n",
      "                \"MergedDir\": \"/var/lib/docker/overlay2/7ddfd3a054b5ffb9fa51f87579379a69fe4a16139791f14a79212a176926c364/merged\",\n",
      "                \"UpperDir\": \"/var/lib/docker/overlay2/7ddfd3a054b5ffb9fa51f87579379a69fe4a16139791f14a79212a176926c364/diff\",\n",
      "                \"WorkDir\": \"/var/lib/docker/overlay2/7ddfd3a054b5ffb9fa51f87579379a69fe4a16139791f14a79212a176926c364/work\"\n",
      "            },\n",
      "            \"Name\": \"overlay2\"\n",
      "        },\n",
      "        \"RootFS\": {\n",
      "            \"Type\": \"layers\",\n",
      "            \"Layers\": [\n",
      "                \"sha256:b43408d5f11b7b2faf048ae4eb25c296536c571fb2f937b4f1c3883386e93d64\",\n",
      "                \"sha256:23135df75b44a66efa9d8dc1a10051768c27bd95388f436eb9553e0eb17211f6\",\n",
      "                \"sha256:fe6d8881187d429af3f636c574911690455825998c9f366e985eab646665e711\",\n",
      "                \"sha256:20c83ad0f1b569b2398ceba2aab508e106e077ff91f9723d236a3ba64eeaefb8\",\n",
      "                \"sha256:688cc2fc7eb93584e754910a999d30ceb3380e21560b81a3f34176de7a5ce856\",\n",
      "                \"sha256:cb14a753592318c7cb069e581fdad443e3426fad848f669dd4566ab0bbecf502\",\n",
      "                \"sha256:d2bfafd07402b4cab61bb7bfe1d1d5cb402b0359925a3e1703ae21186799f9bc\",\n",
      "                \"sha256:3a34a65280cd5ea8a7702c6553385db77ae63a36679112a408127a2b6f987f32\",\n",
      "                \"sha256:ffc70a97138b88f1ef1bb89c8a7b8249ac25b282ff608cd471c27d8300fa8f5a\",\n",
      "                \"sha256:4dac74b6601a79a0764c4a1ef597f0649ffff4f21d23c16275bf7f78fe8fd955\",\n",
      "                \"sha256:e6f5bde43b17a58951cbdc8fd25e0e87ed121e9b784c925b8b21632a56e35d31\",\n",
      "                \"sha256:340f4438a14f105f642db8160c2f9bc07ca5c23b90323153c44b530acddd1112\",\n",
      "                \"sha256:d499fe39213af2ce3bc17da49fff65d42e6facb808afa70e59fb2d7d2aac1657\",\n",
      "                \"sha256:656996b2412a96cc68290a3a9778936b0fb6bed6f74ac4583970d0f29a919f54\",\n",
      "                \"sha256:6b52c55b57c66a061859feb0397c9a938a431aa6d1857eb316d00ef28cc96de9\",\n",
      "                \"sha256:9ef63b2b7c57227516259f17b7424869a0fdd204269a8cf94cca50adafb23e77\",\n",
      "                \"sha256:c8b0ca658c52f37f86636b40fc596f2032b34718ab51c57811e99a432d52329e\",\n",
      "                \"sha256:e799f7b2f2d26a7ee008dfd6f525a5852db5163d4b8b6d23d6b0f2d4f41c0f44\",\n",
      "                \"sha256:c545950f4b4b5137984f79e77fac69f00c19d4e1da168695b96162aa784342e2\",\n",
      "                \"sha256:43436ed61717792297bc17e0b540e13c59a10269f87377e6f5cdc012793ed804\",\n",
      "                \"sha256:fb7715283199cc68552be48d7eec1730e81050bfff749104a581e8b619effaba\",\n",
      "                \"sha256:6fb62095b2fa70826c43875a48376038ffcb5add5b7a2c976526de0ab7240b6a\"\n",
      "            ]\n",
      "        },\n",
      "        \"Metadata\": {\n",
      "            \"LastTagTime\": \"0001-01-01T00:00:00Z\"\n",
      "        }\n",
      "    }\n",
      "]\n"
     ]
    }
   ],
   "source": []
  },
  {
   "cell_type": "code",
   "execution_count": 25,
   "id": "fd21b4d6",
   "metadata": {},
   "outputs": [
    {
     "name": "stdout",
     "output_type": "stream",
     "text": [
      "Unable to find image 'laniksj/dfimage:latest' locally\n",
      "latest: Pulling from laniksj/dfimage\n",
      "\n",
      "\u001b[1B1c3509f3: Pulling fs layer \n",
      "\u001b[1B095ac57a: Pulling fs layer \n",
      "\u001b[1BDigest: sha256:b5358abf730640aa9e968d0f24ac1722b9cbe7ffe0a7b137078b626f47fb84c6[2A\u001b[2K\u001b[2A\u001b[2K\u001b[2A\u001b[2K\u001b[2A\u001b[2K\u001b[2A\u001b[2K\u001b[2A\u001b[2K\u001b[2A\u001b[2K\u001b[2A\u001b[2K\u001b[2A\u001b[2K\u001b[2A\u001b[2K\u001b[2A\u001b[2K\u001b[2A\u001b[2K\u001b[2A\u001b[2K\u001b[2A\u001b[2K\u001b[1A\u001b[2K\n",
      "Status: Downloaded newer image for laniksj/dfimage:latest\n",
      "Traceback (most recent call last):\n",
      "  File \"/root/entrypoint.py\", line 56, in <module>\n",
      "    __main__ = MainObj()\n",
      "  File \"/root/entrypoint.py\", line 16, in __init__\n",
      "    self._get_image(argv[-1])\n",
      "  File \"/root/entrypoint.py\", line 32, in _get_image\n",
      "    raise ImageNotFound(\"Image {} not found\\n\".format(repo_tag))\n",
      "__main__.ImageNotFound: Image 74ffb9a178cb not found\n",
      "\n"
     ]
    }
   ],
   "source": [
    "!docker run -v /var/run/docker.sock:/var/run/docker.sock laniksj/dfimage 74ffb9a178cb"
   ]
  },
  {
   "cell_type": "code",
   "execution_count": 1,
   "id": "775f7077",
   "metadata": {},
   "outputs": [
    {
     "name": "stdout",
     "output_type": "stream",
     "text": [
      "\"docker image save\" requires at least 1 argument.\n",
      "See 'docker image save --help'.\n",
      "\n",
      "Usage:  docker image save [OPTIONS] IMAGE [IMAGE...]\n",
      "\n",
      "Save one or more images to a tar archive (streamed to STDOUT by default)\n"
     ]
    }
   ],
   "source": []
  },
  {
   "cell_type": "code",
   "execution_count": 11,
   "id": "aed8580c",
   "metadata": {},
   "outputs": [
    {
     "name": "stdout",
     "output_type": "stream",
     "text": [
      "REPOSITORY                                                       TAG       IMAGE ID       CREATED       SIZE\n",
      "683313688378.dkr.ecr.us-east-1.amazonaws.com/sagemaker-xgboost   1.2-1     8c079872ceca   13 days ago   4.78GB\n",
      "131046133021.dkr.ecr.us-east-1.amazonaws.com/iris-model          latest    a6181137a083   2 weeks ago   1.91GB\n"
     ]
    }
   ],
   "source": [
    "! docker images"
   ]
  },
  {
   "cell_type": "code",
   "execution_count": 12,
   "id": "417e27cb",
   "metadata": {},
   "outputs": [],
   "source": [
    "! docker image save -o xgboostimage.tar 683313688378.dkr.ecr.us-east-1.amazonaws.com/sagemaker-xgboost:1.2-1"
   ]
  },
  {
   "cell_type": "code",
   "execution_count": null,
   "id": "fe360ccd",
   "metadata": {},
   "outputs": [],
   "source": []
  }
 ],
 "metadata": {
  "kernelspec": {
   "display_name": "conda_python3",
   "language": "python",
   "name": "conda_python3"
  },
  "language_info": {
   "codemirror_mode": {
    "name": "ipython",
    "version": 3
   },
   "file_extension": ".py",
   "mimetype": "text/x-python",
   "name": "python",
   "nbconvert_exporter": "python",
   "pygments_lexer": "ipython3",
   "version": "3.8.12"
  }
 },
 "nbformat": 4,
 "nbformat_minor": 5
}
